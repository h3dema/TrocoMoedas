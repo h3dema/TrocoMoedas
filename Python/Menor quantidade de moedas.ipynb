{
 "cells": [
  {
   "cell_type": "markdown",
   "metadata": {},
   "source": [
    "# variação do troco de moedas\n",
    "\n",
    "Achar a menor quantidade de moedas para um determinado troco.\n",
    "\n",
    "A ideia é encontrar a resposta mais eficiente para cada troco possível $n^{\\ast} \\in \\{0, 1, 2, \\dots, n \\}$, partindo de um caso base (todo o troco é dado com moedas de 1 centavo), e com isso encontrar recursivamente a sequência ótima que leva a um troco total de $n$.\n",
    "\n",
    "Partindo de uma lista de k moedas válidas $M = \\{m_1, m_2, \\dots, m_k \\}$, o algoritmo deve encontrar qual moeda deve ser escolhida para se encontrar o melhor caminho que leva a um troco $n^{\\ast}$, e repetir para todos os $n^{\\ast}$ (em ordem crescente) até chegar no caso $n^{\\ast} = n$, que é o caso desejado. \n",
    "\n",
    "* Para cada $n^{\\ast}$, como é conhecido que uma solução possível é \"n∗ moedas de 1 centavo\", atribui-se moedas factíveis (ou seja, moedas válidas em $M$ e que sejam menores que $n^{\\ast}$, pois caso contrário \"estouraria\" a quantia imediatamente).\n",
    "* Após testar para cada moeda factível, armazenar a moeda que induz a sequência com menor quantidade de moedas necessárias para se completar $n^{\\ast}$, e assim sucessivamente, até que se chegue em $n$."
   ]
  },
  {
   "cell_type": "markdown",
   "metadata": {},
   "source": [
    "### mostra quais moedas efetivamente pegar"
   ]
  },
  {
   "cell_type": "code",
   "execution_count": 1,
   "metadata": {},
   "outputs": [],
   "source": [
    "def caminho(melhor_moeda, troco):\n",
    "    moedas = [] # cria lista vazia que irá armazenar as moedas para o dado \"troco\"\n",
    "    \n",
    "    # repetir até zerar troco\n",
    "    while troco > 0:\n",
    "        # qual moeda escolher dado 'n'?\n",
    "        moeda_escolhida = melhor_moeda[troco] \n",
    "        \n",
    "        # guarda essa moeda na lista\n",
    "        moedas.append(moeda_escolhida) \n",
    "        \n",
    "        # atualiza troco diminuindo valor da moeda escolhida\n",
    "        troco = troco - moeda_escolhida \n",
    "        \n",
    "    return moedas # quais são as moedas selecionadas para o troco"
   ]
  },
  {
   "cell_type": "markdown",
   "metadata": {},
   "source": [
    "### obtem o valor de n* de 0 até n"
   ]
  },
  {
   "cell_type": "code",
   "execution_count": 2,
   "metadata": {},
   "outputs": [],
   "source": [
    "def acha_solucao(moedas_validas, troco, melhor_moeda, quantidade):\n",
    "    \"\"\" versão iterativa\n",
    "        retorna em melhor_moeda, a melhor moeda para cada troco de 0 a troco\n",
    "    \"\"\"\n",
    "    moedas_validas = sorted(moedas_validas) # garante que as moedas validas estão em ordem\n",
    "    \n",
    "    # i: ponteiro para o range dos n*'s testado até o momento. varia de 1 até troco\n",
    "    for i in range(1, troco + 1):\n",
    "        _min = i\n",
    "        moeda_a_utilizar = 1 # caso base: troco todo em moeda de 1 centavo\n",
    "        \n",
    "        for m in moedas_validas:\n",
    "            # não continua se moeda tiver valor maior que n*\n",
    "            if m <= i:\n",
    "                # tira moeda 'i' do total\n",
    "                # se quantidade ótima para troco de n* for menor que o minimo provisório\n",
    "                if quantidade[i - m] + 1 < _min:\n",
    "                    # atualizar quantidade ótima\n",
    "                    _min = quantidade[i - m] + 1 \n",
    "                    # qual moeda escolher para minimizar quantidade exigida para troco de n*\n",
    "                    moeda_a_utilizar = m\n",
    "            quantidade[i] = _min # armazena na tabela os trocos ótimos para todos os n*'s\n",
    "            # achou a moeda. \n",
    "            # para todo n*, qual moeda 'marginalmente' deve ser escolhida?\n",
    "            melhor_moeda[i] = moeda_a_utilizar \n",
    "   \n",
    "    # retorna a quantidade de moedas minima e quais são elas\n",
    "    return quantidade[troco], caminho(melhor_moeda, troco)"
   ]
  },
  {
   "cell_type": "markdown",
   "metadata": {},
   "source": [
    "## Programa principal"
   ]
  },
  {
   "cell_type": "code",
   "execution_count": 3,
   "metadata": {},
   "outputs": [],
   "source": [
    "# define a quantidade de troco que deve ser dada\n",
    "troco = 15\n",
    "\n",
    "# define o conjunto de moedas válidas\n",
    "moedas_validas = [10, 7, 1]"
   ]
  },
  {
   "cell_type": "code",
   "execution_count": 4,
   "metadata": {},
   "outputs": [],
   "source": [
    "quantidade = [0]*(troco + 1)  # contador que indica n*"
   ]
  },
  {
   "cell_type": "code",
   "execution_count": 5,
   "metadata": {},
   "outputs": [],
   "source": [
    "melhor_moeda = [0]*(troco + 1)  # guarda qual a melhor moeda para cada troco de 0 a troco"
   ]
  },
  {
   "cell_type": "code",
   "execution_count": 6,
   "metadata": {},
   "outputs": [
    {
     "name": "stdout",
     "output_type": "stream",
     "text": [
      "São necessárias 3 moedas: [1, 7, 7]\n"
     ]
    }
   ],
   "source": [
    "qtd, lista = acha_solucao(moedas_validas, troco, melhor_moeda, quantidade)\n",
    "print(\"São necessárias {} moedas: {}\".format(qtd, lista))"
   ]
  }
 ],
 "metadata": {
  "kernelspec": {
   "display_name": "Python 3",
   "language": "python",
   "name": "python3"
  },
  "language_info": {
   "codemirror_mode": {
    "name": "ipython",
    "version": 3
   },
   "file_extension": ".py",
   "mimetype": "text/x-python",
   "name": "python",
   "nbconvert_exporter": "python",
   "pygments_lexer": "ipython3",
   "version": "3.7.7"
  }
 },
 "nbformat": 4,
 "nbformat_minor": 4
}
